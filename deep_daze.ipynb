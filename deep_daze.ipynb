{
 "metadata": {
  "language_info": {
   "codemirror_mode": {
    "name": "ipython",
    "version": 3
   },
   "file_extension": ".py",
   "mimetype": "text/x-python",
   "name": "python",
   "nbconvert_exporter": "python",
   "pygments_lexer": "ipython3",
   "version": "3.9.5"
  },
  "orig_nbformat": 4,
  "kernelspec": {
   "name": "python3",
   "display_name": "Python 3.9.2 64-bit ('torch-ml': conda)"
  },
  "interpreter": {
   "hash": "71302a422605c2e8f63c6bb2d6db0678bb5c1b8bbf61ad4e8783ad66d749da1e"
  }
 },
 "nbformat": 4,
 "nbformat_minor": 2,
 "cells": [
  {
   "source": [
    "Original file:\n",
    "https://colab.research.google.com/drive/1_YOHdORb0Fg1Q7vWZ_KlrtFe9Ur3pmVj"
   ],
   "cell_type": "markdown",
   "metadata": {}
  },
  {
   "cell_type": "code",
   "execution_count": null,
   "metadata": {},
   "outputs": [],
   "source": [
    "!pip install deep-daze --upgrade"
   ]
  },
  {
   "cell_type": "code",
   "execution_count": null,
   "metadata": {},
   "outputs": [],
   "source": [
    "from tqdm.notebook import trange\n",
    "from IPython.display import Image, display\n",
    "\n",
    "from deep_daze import Imagine\n",
    "\n",
    "import torch\n",
    "torch.cuda.empty_cache()\n",
    "\n",
    "\n",
    "TEXT = 'an apple on a wooden table' #@param {type:\"string\"}\n",
    "NUM_LAYERS = 32 #@param {type:\"number\"}\n",
    "SAVE_EVERY =  20 #@param {type:\"number\"}\n",
    "BATCH_SIZE = 2 #@param {type: \"number\"}\n",
    "GRADIENT_ACCUMULATE_EVERY = 8 #@param {type: \"number\"}\n",
    "IMAGE_WIDTH = 256 #@param {type:\"number\"}\n",
    "SAVE_PROGRESS = True #@param {type:\"boolean\"}\n",
    "LEARNING_RATE = 1e-5 #@param {type:\"number\"}\n",
    "ITERATIONS = 1050 #@param {type:\"number\"}\n",
    "\n",
    "model = Imagine(\n",
    "    text = TEXT,\n",
    "    num_layers = NUM_LAYERS,\n",
    "    save_every = SAVE_EVERY,\n",
    "    batch_size = BATCH_SIZE,\n",
    "    gradient_accumulate_every = GRADIENT_ACCUMULATE_EVERY,\n",
    "    image_width = IMAGE_WIDTH,\n",
    "    lr = LEARNING_RATE,\n",
    "    iterations = ITERATIONS,\n",
    "    save_progress = SAVE_PROGRESS\n",
    ")\n",
    "\n",
    "for epoch in trange(20, desc = 'epochs'):\n",
    "    for i in trange(ITERATIONS, desc = 'iteration'):\n",
    "        model.train_step(epoch, i)\n",
    "\n",
    "        if i % model.save_every != 0:\n",
    "            continue\n",
    "\n",
    "        filename = TEXT.replace(' ', '_')\n",
    "        image = Image(f'./{filename}.jpg')\n",
    "        display(image)"
   ]
  },
  {
   "cell_type": "code",
   "execution_count": null,
   "metadata": {},
   "outputs": [],
   "source": []
  }
 ]
}